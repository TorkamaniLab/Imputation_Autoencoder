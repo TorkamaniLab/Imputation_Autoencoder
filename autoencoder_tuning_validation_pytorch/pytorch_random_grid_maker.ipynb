{
 "cells": [
  {
   "cell_type": "code",
   "execution_count": 78,
   "metadata": {},
   "outputs": [
    {
     "name": "stdout",
     "output_type": "stream",
     "text": [
      "['model_id', 'l1', 'l2', 'beta', 'rho', 'gamma', 'disable_alpha', 'learn_rate', 'activation', 'optimizer', 'loss_type', 'n_layers', 'size_ratio', 'decay_rate']\n",
      "['model_1', 1e-08, 1e-06, 0.01, 0.1, 0.0, 0, 0.001, 'sigmoid', 'adam', 'CE', 4, 0.6, 0.0]\n",
      "['model_2', 0.01, 1e-08, 1.0, 0.25, 0.5, 1, 0.001, 'leakyrelu', 'rmsprop', 'CE', 2, 0.3, 0.0]\n",
      "['model_3', 0.0, 1e-06, 0.0, 0.5, 0.0, 1, 0.1, 'leakyrelu', 'adam', 'CE', 4, 0.7, 0.95]\n",
      "['model_4', 1e-05, 0.001, 0.01, 0.5, 1.0, 0, 0.1, 'relu', 'adagrad', 'FL', 4, 0.4, 0.5]\n",
      "['model_5', 1e-06, 0.0, 5.0, 0.05, 0.5, 1, 0.1, 'relu', 'sgd', 'FL', 8, 0.2, 0.95]\n",
      "['model_6', 0.1, 0.0, 1e-05, 0.01, 4.0, 1, 1e-05, 'leakyrelu', 'adam', 'FL', 4, 0.9, 0.0]\n",
      "['model_7', 0.0, 1e-07, 1.0, 0.5, 1.0, 1, 0.1, 'leakyrelu', 'adagrad', 'FL', 8, 0.9, 0.75]\n",
      "['model_8', 0.001, 0.001, 0.0, 0.5, 4.0, 1, 0.01, 'sigmoid', 'rmsprop', 'CE', 6, 0.2, 0.25]\n",
      "['model_9', 1e-07, 0.0001, 1.0, 0.5, 2.0, 0, 1e-05, 'leakyrelu', 'sgd', 'FL', 2, 1.0, 0.5]\n",
      "['model_10', 0.01, 0.0001, 1.0, 0.05, 0.5, 0, 0.001, 'tanh', 'rmsprop', 'FL', 6, 0.4, 0.95]\n"
     ]
    }
   ],
   "source": [
    "import numpy as np \n",
    "import csv\n",
    "\n",
    "#use 10 just for debugging, increase this number on final run\n",
    "sample_size = 10\n",
    "\n",
    "#activation\n",
    "act_arr = ['relu', 'tanh', 'sigmoid', 'leakyrelu']\n",
    "#L1\n",
    "l1_arr = [1e-1,1e-2,1e-3,1e-4,1e-5,1e-6,1e-7,1e-8, 0.]\n",
    "#L2\n",
    "l2_arr = [1e-1,1e-2,1e-3,1e-4,1e-5,1e-6,1e-7,1e-8, 0.]\n",
    "#BETA\n",
    "beta_arr = [0,1e-1,1e-2,1e-3,1e-4,1e-5,1,5]\n",
    "#RHO\n",
    "rho_arr = [0.005, 0.01, 0.05, 0.1, 0.25, 0.5]\n",
    "#learning rate\n",
    "learning_rate_arr = [1e-1,1e-2,1e-3,1e-4,1e-5]\n",
    "#GAMMA\n",
    "gamma_arr = [0,0.5,1,2,3,4,5]\n",
    "#optimizer\n",
    "opt_array = [\"rmsprop\", \"sgd\", \"adam\", \"adadelta\", \"adagrad\"]\n",
    "#loss type\n",
    "loss_arr = [\"FL\", \"CE\"]\n",
    "#hidden layer size ratio (will be multiplied by the output feature size)\n",
    "hs_arr = [1.0, 0.9, 0.8, 0.7, 0.6, 0.5, 0.4, 0.3, 0.20]\n",
    "#learning rate decay rate, 0=disabled decay\n",
    "decay_arr = [0.0, 0.25, 0.5, 0.75, 0.95]\n",
    "#disable/enable alpha in focal loss (FL)\n",
    "alpha_arr = [0,1]\n",
    "#total number of layers (half encoding, half decoding)\n",
    "nl_arr = [2,4,6,8]\n",
    "\n",
    "hp_list = [l1_arr, l2_arr, beta_arr, rho_arr, gamma_arr, alpha_arr,\n",
    "           learning_rate_arr, act_arr, opt_array, loss_arr, nl_arr,\n",
    "           hs_arr, decay_arr]\n",
    "\n",
    "hp_labels = ['model_id','l1', 'l1', 'beta', 'rho', 'gamma', 'disable_alpha',\n",
    "             'learn_rate', 'activation', 'optimizer', 'loss_type', 'n_layers',\n",
    "             'size_ratio', 'decay_rate']\n",
    "\n",
    "comment_line = hp_labels[:] #independent copy\n",
    "comment_line[0] = \"#\"+comment_line[0]\n",
    "sampled_hps = []\n",
    "\n",
    "script_name=\"DSAE_TORCH_ARG.py\"\n",
    "\n",
    "for i in range(sample_size):\n",
    "    hp_set = ['model_'+str(i+1)]    \n",
    "    for hp_sublist in hp_list:\n",
    "        hp_set += [np.random.choice(hp_sublist)]\n",
    "    #print(hp_set)\n",
    "    sampled_hps  += [hp_set]\n",
    "\n",
    "with open(str(sample_size)+'_random_hyperparameters.tsv', 'w', newline='') as f_output:\n",
    "    tsv_output = csv.writer(f_output, delimiter='\\t')\n",
    "    tsv_output.writerow(comment_line)\n",
    "\n",
    "print(hp_labels)\n",
    "\n",
    "with open(str(sample_size)+'_random_hyperparameters.tsv', 'a+', newline='') as f_output:\n",
    "    tsv_output = csv.writer(f_output, delimiter='\\t')\n",
    "    \n",
    "    for hps in sampled_hps:\n",
    "        print(hps)\n",
    "        tsv_output.writerow(hps)\n"
   ]
  },
  {
   "cell_type": "code",
   "execution_count": 79,
   "metadata": {},
   "outputs": [
    {
     "name": "stdout",
     "output_type": "stream",
     "text": [
      "CUDA_VISIBLE_DEVICES=<my_GPU_id> python3 DSAE_TORCH_ARG.py --input <my_input_file> --min_mask <my_min_mask> --max_mask <my_max_mask> --model_id model_1 --l1 1e-08 --l2 1e-06 --beta 0.01 --rho 0.1 --gamma 0.0 --disable_alpha 0 --learn_rate 0.001 --activation sigmoid --optimizer adam --loss_type CE --n_layers 4 --size_ratio 0.6 --decay_rate 0.0\n",
      "CUDA_VISIBLE_DEVICES=<my_GPU_id> python3 DSAE_TORCH_ARG.py --input <my_input_file> --min_mask <my_min_mask> --max_mask <my_max_mask> --model_id model_2 --l1 0.01 --l2 1e-08 --beta 1.0 --rho 0.25 --gamma 0.5 --disable_alpha 1 --learn_rate 0.001 --activation leakyrelu --optimizer rmsprop --loss_type CE --n_layers 2 --size_ratio 0.3 --decay_rate 0.0\n",
      "CUDA_VISIBLE_DEVICES=<my_GPU_id> python3 DSAE_TORCH_ARG.py --input <my_input_file> --min_mask <my_min_mask> --max_mask <my_max_mask> --model_id model_3 --l1 0.0 --l2 1e-06 --beta 0.0 --rho 0.5 --gamma 0.0 --disable_alpha 1 --learn_rate 0.1 --activation leakyrelu --optimizer adam --loss_type CE --n_layers 4 --size_ratio 0.7 --decay_rate 0.95\n",
      "CUDA_VISIBLE_DEVICES=<my_GPU_id> python3 DSAE_TORCH_ARG.py --input <my_input_file> --min_mask <my_min_mask> --max_mask <my_max_mask> --model_id model_4 --l1 1e-05 --l2 0.001 --beta 0.01 --rho 0.5 --gamma 1.0 --disable_alpha 0 --learn_rate 0.1 --activation relu --optimizer adagrad --loss_type FL --n_layers 4 --size_ratio 0.4 --decay_rate 0.5\n",
      "CUDA_VISIBLE_DEVICES=<my_GPU_id> python3 DSAE_TORCH_ARG.py --input <my_input_file> --min_mask <my_min_mask> --max_mask <my_max_mask> --model_id model_5 --l1 1e-06 --l2 0.0 --beta 5.0 --rho 0.05 --gamma 0.5 --disable_alpha 1 --learn_rate 0.1 --activation relu --optimizer sgd --loss_type FL --n_layers 8 --size_ratio 0.2 --decay_rate 0.95\n",
      "CUDA_VISIBLE_DEVICES=<my_GPU_id> python3 DSAE_TORCH_ARG.py --input <my_input_file> --min_mask <my_min_mask> --max_mask <my_max_mask> --model_id model_6 --l1 0.1 --l2 0.0 --beta 1e-05 --rho 0.01 --gamma 4.0 --disable_alpha 1 --learn_rate 1e-05 --activation leakyrelu --optimizer adam --loss_type FL --n_layers 4 --size_ratio 0.9 --decay_rate 0.0\n",
      "CUDA_VISIBLE_DEVICES=<my_GPU_id> python3 DSAE_TORCH_ARG.py --input <my_input_file> --min_mask <my_min_mask> --max_mask <my_max_mask> --model_id model_7 --l1 0.0 --l2 1e-07 --beta 1.0 --rho 0.5 --gamma 1.0 --disable_alpha 1 --learn_rate 0.1 --activation leakyrelu --optimizer adagrad --loss_type FL --n_layers 8 --size_ratio 0.9 --decay_rate 0.75\n",
      "CUDA_VISIBLE_DEVICES=<my_GPU_id> python3 DSAE_TORCH_ARG.py --input <my_input_file> --min_mask <my_min_mask> --max_mask <my_max_mask> --model_id model_8 --l1 0.001 --l2 0.001 --beta 0.0 --rho 0.5 --gamma 4.0 --disable_alpha 1 --learn_rate 0.01 --activation sigmoid --optimizer rmsprop --loss_type CE --n_layers 6 --size_ratio 0.2 --decay_rate 0.25\n",
      "CUDA_VISIBLE_DEVICES=<my_GPU_id> python3 DSAE_TORCH_ARG.py --input <my_input_file> --min_mask <my_min_mask> --max_mask <my_max_mask> --model_id model_9 --l1 1e-07 --l2 0.0001 --beta 1.0 --rho 0.5 --gamma 2.0 --disable_alpha 0 --learn_rate 1e-05 --activation leakyrelu --optimizer sgd --loss_type FL --n_layers 2 --size_ratio 1.0 --decay_rate 0.5\n",
      "CUDA_VISIBLE_DEVICES=<my_GPU_id> python3 DSAE_TORCH_ARG.py --input <my_input_file> --min_mask <my_min_mask> --max_mask <my_max_mask> --model_id model_10 --l1 0.01 --l2 0.0001 --beta 1.0 --rho 0.05 --gamma 0.5 --disable_alpha 0 --learn_rate 0.001 --activation tanh --optimizer rmsprop --loss_type FL --n_layers 6 --size_ratio 0.4 --decay_rate 0.95\n"
     ]
    }
   ],
   "source": [
    "with open(str(sample_size)+'_random_hyperparameters.sh', 'w') as file_object:\n",
    "    \n",
    "    for hps in sampled_hps:\n",
    "        #print(hps)\n",
    "        cmd=\"CUDA_VISIBLE_DEVICES=<my_GPU_id> python3 \"+script_name+\" --input <my_input_file> --min_mask <my_min_mask> --max_mask <my_max_mask>\"\n",
    "        for label, value in zip(hp_labels, hps):\n",
    "            cmd+=\" --\"+label+\" \"+str(value)\n",
    "        print(cmd)\n",
    "        file_object.write(cmd+\"\\n\")\n",
    "        "
   ]
  },
  {
   "cell_type": "code",
   "execution_count": null,
   "metadata": {},
   "outputs": [],
   "source": []
  }
 ],
 "metadata": {
  "kernelspec": {
   "display_name": "Python 3",
   "language": "python",
   "name": "python3"
  }
 },
 "nbformat": 4,
 "nbformat_minor": 4
}
